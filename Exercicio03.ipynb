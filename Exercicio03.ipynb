{
 "cells": [
  {
   "cell_type": "markdown",
   "metadata": {},
   "source": [
    "PP - EXÉRCICIO 3 - KENNEDY MOTA - 81613747 - CCP3AN-MCA2"
   ]
  },
  {
   "cell_type": "markdown",
   "metadata": {},
   "source": [
    "1 - Faça um Programa que peça dois números e imprima o maior deles."
   ]
  },
  {
   "cell_type": "code",
   "execution_count": 1,
   "metadata": {},
   "outputs": [
    {
     "name": "stdout",
     "output_type": "stream",
     "text": [
      "Digite um número: 20\n",
      "Digite um número: 10\n",
      "O maior número é o:  20\n"
     ]
    }
   ],
   "source": [
    "num1 = input (\"Digite um número: \")\n",
    "num2 = input(\"Digite um número: \")\n",
    "\n",
    "if num1 > num2:\n",
    "    print (\"O maior número é o: \", num1)\n",
    "elif num1 == num2:\n",
    "    print(\"Os números são iguais!\")\n",
    "else:\n",
    "    print(\"O maior número é o: \", num2)"
   ]
  },
  {
   "cell_type": "markdown",
   "metadata": {},
   "source": [
    "2 - Faça um Programa que verifique se uma letra digitada é vogal ou consoante. "
   ]
  },
  {
   "cell_type": "code",
   "execution_count": 2,
   "metadata": {},
   "outputs": [
    {
     "name": "stdout",
     "output_type": "stream",
     "text": [
      "Digite uma letra.b\n",
      "A letra digitada foi:  b\n",
      "A letra digitada é uma Consoante!\n"
     ]
    }
   ],
   "source": [
    "letra = input(\"Digite uma letra.\")\n",
    "print (\"A letra digitada foi: \",letra)\n",
    "if (letra == 'a' or letra == 'A' or letra == 'e' or letra == 'E' or letra == 'i' or letra == 'I'\n",
    "    or letra == 'o' or letra == 'O' or letra == 'u' or letra == 'U'):\n",
    "    print (\"A letra digita é uma Vogal!\")\n",
    "else:\n",
    "    print(\"A letra digitada é uma Consoante!\")"
   ]
  },
  {
   "cell_type": "markdown",
   "metadata": {},
   "source": [
    "3 - Faça um programa para a leitura de duas notas parciais de um aluno. O programa deve calcular a média alcançada por aluno e apresentar: - A mensagem \"Aprovado\", se a média alcançada for maior ou igual a sete; - A mensagem \"Reprovado\", se a média for menor do que sete; - A mensagem \"Aprovado com Distinção\", se a média for igual a dez."
   ]
  },
  {
   "cell_type": "code",
   "execution_count": 3,
   "metadata": {},
   "outputs": [
    {
     "name": "stdout",
     "output_type": "stream",
     "text": [
      "Digite a primeira nota: 8\n",
      "Digite a segunda nota: 4\n",
      "6.0\n",
      "Reprovado!\n"
     ]
    }
   ],
   "source": [
    "nota1 = int(input(\"Digite a primeira nota: \"))\n",
    "nota2 = int(input(\"Digite a segunda nota: \"))\n",
    "\n",
    "media = (nota1 + nota2)/2\n",
    "\n",
    "print (media)\n",
    "if(media >= 7 and media != 10):\n",
    "    print(\"Aprovado!\")\n",
    "elif(media < 7):\n",
    "        print (\"Reprovado!\")\n",
    "elif(media == 10):\n",
    "            print (\"Aprovado com Distinção.\")"
   ]
  },
  {
   "cell_type": "markdown",
   "metadata": {},
   "source": [
    "4 - Faça um Programa que leia três números e mostre-os em ordem decrescente. "
   ]
  },
  {
   "cell_type": "code",
   "execution_count": 4,
   "metadata": {},
   "outputs": [
    {
     "name": "stdout",
     "output_type": "stream",
     "text": [
      "Digite o primeiro número: 10\n",
      "Digite o segundo número:  20\n",
      "Digite o terceiro número: 30\n",
      " 30 \n",
      " 20 \n",
      " 10\n"
     ]
    }
   ],
   "source": [
    "num1 = int(input(\"Digite o primeiro número: \"))\n",
    "num2 = int(input(\"Digite o segundo número:  \"))\n",
    "num3 = int(input(\"Digite o terceiro número: \"))\n",
    "\n",
    "if(num1 > num2 and num1 > num3 and num2 > num3 ):\n",
    "    print(\"\",num1,\"\\n\",num2,\"\\n\",num3,\"\\n\")\n",
    "elif(num1 > num2 and num1> num3 and num3 > num2):\n",
    "    print(\"\",num1,\"\\n\",num3,\"\\n\",num2)\n",
    "elif(num2 > num1 and num2 > num3 and num1>num3):\n",
    "    print(\"\",num2,\"\\n\",num1,\"\\n\",num3)\n",
    "elif(num2 > num1 and num2 > num3 and num3>num1):\n",
    "    print(\"\",num2,\"\\n\",num3,\"\\n\",num1)\n",
    "elif(num3 > num1 and num3 > num2 and num1>num2):\n",
    "    print(\"\",num3,\"\\n\",num1,\"\\n\",num2)\n",
    "elif(num3 > num1 and num3 > num2 and num2>num1):\n",
    "    print(\"\",num3,\"\\n\",num2,\"\\n\",num1)"
   ]
  },
  {
   "cell_type": "markdown",
   "metadata": {},
   "source": [
    "5 - As Organizações Tabajara resolveram dar um aumento de salário aos seus colaboradores e lhe contrataram para desenvolver o programa que calculará os reajustes. Faça um programa que recebe o salário de um colaborador e o reajuste segundo o seguinte critério, baseado no salário atual: - salários até R$ 280,00 (incluindo) : aumento de 20% - salários entre R$ 280,00 e R$ 700,00 : aumento de 15% - salários entre R$ 700,00 e R$ 1500,00 : aumento de 10% - salários de R$ 1500,00 em diante : aumento de 5% Após o aumento ser realizado, informe na tela: - o salário antes do reajuste; - o percentual de aumento aplicado; - o valor do aumento; - o novo salário, após o aumento. "
   ]
  },
  {
   "cell_type": "code",
   "execution_count": 5,
   "metadata": {},
   "outputs": [
    {
     "name": "stdout",
     "output_type": "stream",
     "text": [
      "Digite o salario do colaborador: 1500\n",
      "Salario antes do reajuste: 1500\n",
      "Percentual de aumento aplicado: 5%\n",
      "Valor do aumento:  75.0\n",
      "Novo Salario 1575.0\n"
     ]
    }
   ],
   "source": [
    "salario = int (input(\"Digite o salario do colaborador: \"))\n",
    "salario_reajustado = 0\n",
    "\n",
    "if(salario <= 280):\n",
    "    salario_reajustado = salario + (salario*0.20)\n",
    "    print(\"Salario antes do reajuste:\",salario)\n",
    "    print('Percentual de aumento aplicado: 20%')\n",
    "    print(\"Valor do aumento: \",salario_reajustado - salario)\n",
    "    print(\"Novo Salario\",salario_reajustado)\n",
    "elif(salario > 280 and salario <=  699):\n",
    "    salario_reajustado = salario + (salario*0.15)\n",
    "    print(\"Salario antes do reajuste:\",salario)\n",
    "    print('Percentual de aumento aplicado: 15%')\n",
    "    print(\"Valor do aumento: \",salario_reajustado - salario)\n",
    "    print(\"Novo Salario\",salario_reajustado)\n",
    "elif(salario >= 700 and salario <= 1499):\n",
    "    salario_reajustado = salario + (salario*0.10)\n",
    "    print(\"Salario antes do reajuste:\",salario)\n",
    "    print('Percentual de aumento aplicado: 10%')\n",
    "    print(\"Valor do aumento: \",salario_reajustado - salario)\n",
    "    print(\"Novo Salario\",salario_reajustado)\n",
    "elif(salario >= 1500):\n",
    "    salario_reajustado = salario + (salario*0.05)\n",
    "    print(\"Salario antes do reajuste:\",salario)\n",
    "    print('Percentual de aumento aplicado: 5%')\n",
    "    print(\"Valor do aumento: \",salario_reajustado - salario)\n",
    "    print(\"Novo Salario\",salario_reajustado)"
   ]
  },
  {
   "cell_type": "markdown",
   "metadata": {},
   "source": [
    "6 - Faça um Programa que leia um número e exiba o dia correspondente da semana. (1-Domingo, 2- Segunda, etc.), se digitar outro valor deve aparecer valor inválido. "
   ]
  },
  {
   "cell_type": "code",
   "execution_count": 6,
   "metadata": {},
   "outputs": [
    {
     "name": "stdout",
     "output_type": "stream",
     "text": [
      "Digite um número, referente ao dia da semana, (entre 1 e 7): 5\n",
      "Quinta-Feira\n"
     ]
    }
   ],
   "source": [
    "numero = int(input(\"Digite um número, referente ao dia da semana, (entre 1 e 7): \"))\n",
    "\n",
    "if (numero == 1):\n",
    "    print(\"Domingo\")\n",
    "elif(numero == 2):\n",
    "        print(\"Segunda-Feira\")\n",
    "elif(numero == 3):\n",
    "            print(\"Terça-Feira\")\n",
    "elif(numero == 4):\n",
    "                print(\"Quarta-Feira\")\n",
    "elif(numero == 5):\n",
    "                    print(\"Quinta-Feira\")\n",
    "elif(numero == 6):\n",
    "                        print(\"Sexta-Feira\")\n",
    "elif(numero == 7):\n",
    "                            print(\"Sabado\")\n",
    "else:\n",
    "                                print(\"Valor inválido\")"
   ]
  },
  {
   "cell_type": "markdown",
   "metadata": {},
   "source": [
    "7- Faça um programa que lê as duas notas parciais obtidas por um aluno numa disciplina ao longo de um semestre, e calcule a sua média. A atribuição de conceitos obedece à tabela abaixo:   Média de Aproveitamento  Conceito   Entre 9.0 e 10.0        A   Entre 7.5 e 9.0         B   Entre 6.0 e 7.5         C   Entre 4.0 e 6.0         D   Entre 4.0 e zero        E O algoritmo deve mostrar na tela as notas, a média, o conceito correspondente e a mensagem “APROVADO” se o conceito for A, B ou C ou “REPROVADO” se o conceito for D ou E. "
   ]
  },
  {
   "cell_type": "code",
   "execution_count": 7,
   "metadata": {},
   "outputs": [
    {
     "name": "stdout",
     "output_type": "stream",
     "text": [
      "Digite a primeira nota: 5\n",
      "Digite a segunda nota:  8\n",
      "Notas: nota 1:  5 - Nota2:  8\n",
      "Média do Aluno:  6.5\n",
      "Conceito: C\n",
      "Aprovado\n"
     ]
    }
   ],
   "source": [
    "nota1 = int(input(\"Digite a primeira nota: \"))\n",
    "nota2 = int(input(\"Digite a segunda nota:  \"))\n",
    "\n",
    "media = (nota1 + nota2)/2\n",
    "\n",
    "if(media >= 9 and media <= 10):\n",
    "    print(\"Notas: nota 1: \",nota1,\"- Nota2: \",nota2)\n",
    "    print(\"Média do Aluno: \",media)\n",
    "    print(\"Conceito: A\")\n",
    "    print(\"Aprovado\")\n",
    "elif(media>= 7.5 and media <9):\n",
    "    print(\"Notas: nota 1: \",nota1,\"- Nota2: \",nota2)\n",
    "    print(\"Média do Aluno: \",media)\n",
    "    print(\"Conceito: B\")\n",
    "    print(\"Aprovado\")\n",
    "elif(media>= 6 and media < 7.5):\n",
    "    print(\"Notas: nota 1: \",nota1,\"- Nota2: \",nota2)\n",
    "    print(\"Média do Aluno: \",media)\n",
    "    print(\"Conceito: C\")\n",
    "    print(\"Aprovado\")\n",
    "elif(media>= 4 and media <6):\n",
    "    print(\"Notas: nota 1: \",nota1,\"- Nota2: \",nota2)\n",
    "    print(\"Média do Aluno: \",media)\n",
    "    print(\"Conceito: D\")\n",
    "    print(\"REPROVADO!\")\n",
    "elif(media< 4):\n",
    "    print(\"Notas: nota 1: \",nota1,\"- Nota2: \",nota2)\n",
    "    print(\"Média do Aluno: \",media)\n",
    "    print(\"Conceito: E\")\n",
    "    print(\"REPROVADO!\")\n"
   ]
  },
  {
   "cell_type": "markdown",
   "metadata": {},
   "source": [
    "8- Faça um Programa que peça os 3 lados de um triângulo. O programa deverá\n",
    "informar se os valores podem ser um triângulo. Indique, caso os lados formem um\n",
    "triângulo, se o mesmo é: equilátero, isósceles ou escaleno.\n",
    "Dicas:\n",
    "- Três lados formam um triângulo quando a soma de quaisquer dois lados for maior\n",
    "que o terceiro;\n",
    "- Triângulo Equilátero: três lados iguais;\n",
    "- Triângulo Isósceles: quaisquer dois lados iguais;\n",
    "- Triângulo Escaleno: três lados diferentes;"
   ]
  },
  {
   "cell_type": "code",
   "execution_count": 8,
   "metadata": {},
   "outputs": [
    {
     "name": "stdout",
     "output_type": "stream",
     "text": [
      "Digite o lado A do triangulo: 20\n",
      "Digite o lado B do triangulo: 10\n",
      "Digite o lado C do triangulo: 10\n",
      "O triangulo é Isósceles\n"
     ]
    }
   ],
   "source": [
    "ladoa = int(input(\"Digite o lado A do triangulo: \"))\n",
    "ladob = int(input(\"Digite o lado B do triangulo: \"))\n",
    "ladoc = int(input(\"Digite o lado C do triangulo: \"))\n",
    "\n",
    "triangulo = False;\n",
    "\n",
    "if((ladoa + ladob) > ladoc):\n",
    "    triangulo = True\n",
    "    \n",
    "    if(ladoa == ladob and ladoa == ladoc):\n",
    "        print(\"O triangulo é Equilátero\")\n",
    "    elif(ladoa == ladob or ladoa == ladoc or ladob == ladoc):\n",
    "        print(\"O triangulo é Isósceles\")\n",
    "    elif(ladoa != ladob and ladoa != ladoc and ladob != ladoc):\n",
    "        print(\"O triangulo é Escaleno\")\n",
    "else:\n",
    "    print(\"Não é um triangulo!\")"
   ]
  },
  {
   "cell_type": "markdown",
   "metadata": {},
   "source": [
    "9 - Faça um programa que calcule as raízes de uma equação do segundo grau, na\n",
    "forma ax2 + bx + c. O programa deverá pedir os valores de a, b e c e fazer as\n",
    "consistências, informando ao usuário nas seguintes situações:\n",
    "- Se o usuário informar o valor de A igual a zero, a equação não é do segundo grau e\n",
    "o programa não deve fazer pedir os demais valores, sendo encerrado;\n",
    "- Se o delta calculado for negativo, a equação não possui raizes reais. Informe ao\n",
    "usuário e encerre o programa;\n",
    "- Se o delta calculado for igual a zero a equação possui apenas uma raiz real;\n",
    "informe-a ao usuário;\n",
    "- Se o delta for positivo, a equação possui duas raiz reais; informe-as ao usuário;"
   ]
  },
  {
   "cell_type": "code",
   "execution_count": 9,
   "metadata": {},
   "outputs": [
    {
     "name": "stdout",
     "output_type": "stream",
     "text": [
      "Digite o valor de A: 10\n",
      "Digite o valor de B: 20\n",
      "Digite o valor de C: 30\n",
      "O delta é negativo, a equação não possui raizes reais.\n"
     ]
    }
   ],
   "source": [
    "import sys\n",
    "\n",
    "a = int(input(\"Digite o valor de A: \"))\n",
    "while(a == 0):\n",
    "        print(\"O valor de A deve ser maior que ZERO!\")\n",
    "        break;\n",
    "else:\n",
    "    b = int(input(\"Digite o valor de B: \"))\n",
    "    c = int(input(\"Digite o valor de C: \"))\n",
    "\n",
    "    delta = (b*b) - (4*a)*c\n",
    "\n",
    "    if(delta < 0):\n",
    "        print(\"O delta é negativo, a equação não possui raizes reais.\")\n",
    "    elif(delta == 0):\n",
    "        print(\"A equação possui apenas 1 raiz real.\")\n",
    "    elif(delta > 0):\n",
    "        print(\"A equação possui duas raizes reais.\")\n",
    "\n",
    "\n"
   ]
  },
  {
   "cell_type": "markdown",
   "metadata": {},
   "source": [
    "10 - Faça um Programa para um caixa eletrônico. O programa deverá perguntar ao\n",
    "usuário a valor do saque e depois informar quantas notas de cada valor serão\n",
    "fornecidas. As notas disponíveis serão as de 1, 5, 10, 50 e 100 reais. O valor mínimo é\n",
    "de 10 reais e o máximo de 600 reais. O programa não deve se preocupar com a\n",
    "quantidade de notas existentes na máquina.\n",
    "- Exemplo 1: Para sacar a quantia de 256 reais, o programa fornece duas notas de\n",
    "100, uma nota de 50, uma nota de 5 e uma nota de 1;\n",
    "- Exemplo 2: Para sacar a quantia de 399 reais, o programa fornece três notas de\n",
    "100, uma nota de 50, quatro notas de 10, uma nota de 5 e quatro notas de 1."
   ]
  },
  {
   "cell_type": "code",
   "execution_count": 5,
   "metadata": {},
   "outputs": [
    {
     "name": "stdout",
     "output_type": "stream",
     "text": [
      "Digite o valor do saque: 50\n",
      "50 notas de R$ 100\n",
      "50 notas de R$ 50\n"
     ]
    }
   ],
   "source": [
    "saque = int(input(\"Digite o valor do saque: \"))\n",
    "\n",
    "if 10 <= saque <= 600:\n",
    "    notas_cem = saque \n",
    "    saque = saque % 100\n",
    "\n",
    "    notas_cinquenta = saque \n",
    "    saque = saque % 50\n",
    "\n",
    "    notas_dez = saque\n",
    "    saque = saque % 10\n",
    "\n",
    "    notas_cinco = saque \n",
    "    saque = saque % 5\n",
    "\n",
    "    notas_um = saque \n",
    "\n",
    "    if notas_cem > 0:\n",
    "        print(notas_cem, \"notas de R$ 100\")\n",
    "    if notas_cinquenta > 0:\n",
    "        print(notas_cinquenta, \"notas de R$ 50\")\n",
    "    if notas_dez > 0:\n",
    "        print(notas_dez, \"notas de R$ 10\")\n",
    "    if notas_cinco > 0:\n",
    "        print(notas_cinco, \"notas de R$ 5\")\n",
    "    if notas_um > 0:\n",
    "        print(notas_um, \"notas de R$ 1\")\n",
    "              \n",
    "else:\n",
    "    print(\"Nao é possivel fazer o saque\")"
   ]
  },
  {
   "cell_type": "markdown",
   "metadata": {},
   "source": [
    "11 - Faça um programa que faça 5 perguntas para uma pessoa sobre um crime. As\n",
    "perguntas são:\n",
    "\"Telefonou para a vítima?\"\n",
    "\"Esteve no local do crime?\"\n",
    "\"Mora perto da vítima?\"\n",
    "\"Devia para a vítima?\"\n",
    "\"Já trabalhou com a vítima?\"\n",
    "O programa deve no final emitir uma classificação sobre a participação da pessoa no\n",
    "crime. Se a pessoa responder positivamente a 2 questões ela deve ser classificada\n",
    "como \"Suspeita\", entre 3 e 4 como \"Cúmplice\" e 5 como \"Assassino\". Caso contrário,\n",
    "ele será classificado como \"Inocente\"."
   ]
  },
  {
   "cell_type": "code",
   "execution_count": 10,
   "metadata": {},
   "outputs": [
    {
     "name": "stdout",
     "output_type": "stream",
     "text": [
      "Telefonou para a vítima? \n",
      "OBS: Responda com 1 para SIM e 2 para NÃO: 1\n",
      "1\n",
      "Esteve no local do crime? \n",
      "OBS: Responda com 1 para SIM e 2 para NÃO:: 2\n",
      "Mora perto da vítima? \n",
      "OBS: Responda com 1 para SIM e 2 para NÃO: 1\n",
      "2\n",
      "Devia para a vítima? \n",
      "OBS: Responda com 1 para SIM e 2 para NÃO: 2\n",
      "Ja trabalhou com a vítima? \n",
      "OBS: Responda com 1 para SIM e 2 para NÃO: 1\n",
      "3\n",
      "CÚMPLICE\n"
     ]
    }
   ],
   "source": [
    "qtde = 0    \n",
    "p1 = int(input(\"Telefonou para a vítima? \"\"\\nOBS: Responda com 1 para SIM e 2 para NÃO: \"))\n",
    "if(p1 == 1):\n",
    "    qtde +=1\n",
    "    print(qtde)\n",
    "p2 = int(input(\"Esteve no local do crime? \"\"\\nOBS: Responda com 1 para SIM e 2 para NÃO:: \"))\n",
    "if(p2 == 1):\n",
    "    qtde +=1\n",
    "    print(qtde)\n",
    "p3 = int(input(\"Mora perto da vítima? \"\"\\nOBS: Responda com 1 para SIM e 2 para NÃO: \"))\n",
    "if(p3 == 1):\n",
    "    qtde +=1\n",
    "    print(qtde)\n",
    "p4 = int(input(\"Devia para a vítima? \"\"\\nOBS: Responda com 1 para SIM e 2 para NÃO: \"))\n",
    "\n",
    "if(p4 == 1):\n",
    "    qtde +=1\n",
    "    print(qtde)\n",
    "p5 = int(input(\"Ja trabalhou com a vítima? \"\"\\nOBS: Responda com 1 para SIM e 2 para NÃO: \"))\n",
    "if(p5 == 1):\n",
    "    qtde +=1\n",
    "    print(qtde)\n",
    "    \n",
    "if(qtde == 2):\n",
    "    print(\"SUSPEITA!\")\n",
    "elif(qtde >=3 and qtde <=4):\n",
    "    print(\"CÚMPLICE\")\n",
    "elif(qtde==5):\n",
    "    print(\"ASSASSINO!\")\n",
    "elif(qtde <=1):\n",
    "    print(\"Esta pessoa é: Inocente :)\")"
   ]
  },
  {
   "cell_type": "markdown",
   "metadata": {},
   "source": [
    "12 - Uma fruteira está vendendo frutas com a seguinte tabela de preços:\n",
    "Até 5 Kg Acima de 5 Kg\n",
    "Morango R$ 2,50 por Kg R$ 2,20 por Kg\n",
    "Maçã R$ 1,80 por Kg R$ 1,50 por Kg\n",
    "Se o cliente comprar mais de 8 Kg em frutas ou o valor total da compra ultrapassar\n",
    "R$ 25,00, receberá ainda um desconto de 10% sobre este total. Escreva um\n",
    "algoritmo para ler a quantidade (em Kg) de morangos e a quantidade (em Kg) de\n",
    "maças adquiridas e escreva o valor a ser pago pelo cliente."
   ]
  },
  {
   "cell_type": "code",
   "execution_count": 11,
   "metadata": {},
   "outputs": [
    {
     "name": "stdout",
     "output_type": "stream",
     "text": [
      "Digite a quantidade de Morangos: 50\n",
      "Digite a quantidade de Maçãs: 12\n",
      "Valor do desconto:  14.66\n",
      "Valor a pagar:  131.94\n"
     ]
    }
   ],
   "source": [
    "qtde_morango = int(input(\"Digite a quantidade de Morangos: \"))\n",
    "qtde_macas = int(input(\"Digite a quantidade de Maçãs: \"))\n",
    "\n",
    "qtde_total = qtde_morango + qtde_macas\n",
    "valor_pagar = (qtde_morango * 2.50) + (qtde_macas * 1.80)\n",
    "\n",
    "if(qtde_total > 8 or valor_pagar > 25):\n",
    "    valor_desconto = (valor_pagar * 10)/100\n",
    "    print(\"Valor do desconto: \",valor_desconto)\n",
    "    print(\"Valor a pagar: \",valor_pagar - valor_desconto)\n",
    "else:\n",
    "    print(\"Valor a pagar: \",valor_pagar)"
   ]
  },
  {
   "cell_type": "markdown",
   "metadata": {},
   "source": [
    "13 - Faça um programa que peça uma nota, entre zero e dez. Mostre uma mensagem caso o valor seja inválido e continue pedindo até que o usuário informe um valor válido."
   ]
  },
  {
   "cell_type": "code",
   "execution_count": 12,
   "metadata": {},
   "outputs": [
    {
     "name": "stdout",
     "output_type": "stream",
     "text": [
      "Informe uma nota entre 0 e 10... 4\n"
     ]
    }
   ],
   "source": [
    "while True:\n",
    "    nota = int(input('Informe uma nota entre 0 e 10... '))\n",
    "    if nota >= 0 and nota <= 10:\n",
    "        break\n",
    "    else:\n",
    "        print(f'A nota informada é invalida. insira um valor entre 0 e 10...')\n",
    "        continue "
   ]
  },
  {
   "cell_type": "markdown",
   "metadata": {},
   "source": [
    "14 - Faça um programa que leia 5 números e informe o maior número."
   ]
  },
  {
   "cell_type": "code",
   "execution_count": 13,
   "metadata": {},
   "outputs": [
    {
     "name": "stdout",
     "output_type": "stream",
     "text": [
      "Número: 10\n",
      "Número: 5\n",
      "Número: 78\n",
      "Número: 12\n",
      "Número: 35\n",
      "O maior valor informado é: 78\n"
     ]
    }
   ],
   "source": [
    "cont = 0\n",
    "lista = []\n",
    "while cont < 5:\n",
    "    lista.append( float(input('Número: ')))\n",
    "    cont +=1\n",
    "else:\n",
    "    print('O maior valor informado é: %.0f' %max(lista))\n",
    "    "
   ]
  },
  {
   "cell_type": "markdown",
   "metadata": {},
   "source": [
    "15 - Faça um programa que leia 5 números e informe a soma e a média dos números. "
   ]
  },
  {
   "cell_type": "code",
   "execution_count": 14,
   "metadata": {},
   "outputs": [
    {
     "name": "stdout",
     "output_type": "stream",
     "text": [
      "Nº: 1\n",
      "Nº: 521\n",
      "Nº: 54\n",
      "Nº: 65\n",
      "Nº: 65\n",
      "A soma dos numeros é: 706\n",
      "A média dos numeros é: 141.2\n"
     ]
    }
   ],
   "source": [
    "cont = 0\n",
    "soma = 0\n",
    "while cont < 5:\n",
    "    n = float(input('Nº: '))\n",
    "    cont +=1\n",
    "    soma= soma + n\n",
    "else:\n",
    "    media = soma / cont\n",
    "    print('A soma dos numeros é: %.0f'%soma)\n",
    "    print('A média dos numeros é: %.1f'%media)\n"
   ]
  },
  {
   "cell_type": "markdown",
   "metadata": {},
   "source": [
    "16 - Faça um programa que imprima na tela apenas os números ímpares entre 1 e 50."
   ]
  },
  {
   "cell_type": "code",
   "execution_count": 15,
   "metadata": {},
   "outputs": [],
   "source": [
    "#fazendo uma lista de 0 a 50\n",
    "lista = list(range(1,51))"
   ]
  },
  {
   "cell_type": "code",
   "execution_count": 16,
   "metadata": {},
   "outputs": [
    {
     "name": "stdout",
     "output_type": "stream",
     "text": [
      "[1, 2, 3, 4, 5, 6, 7, 8, 9, 10, 11, 12, 13, 14, 15, 16, 17, 18, 19, 20, 21, 22, 23, 24, 25, 26, 27, 28, 29, 30, 31, 32, 33, 34, 35, 36, 37, 38, 39, 40, 41, 42, 43, 44, 45, 46, 47, 48, 49, 50]\n"
     ]
    }
   ],
   "source": [
    "#imprimindo na tela\n",
    "print(lista)"
   ]
  },
  {
   "cell_type": "code",
   "execution_count": 17,
   "metadata": {},
   "outputs": [
    {
     "name": "stdout",
     "output_type": "stream",
     "text": [
      "1\n",
      "3\n",
      "5\n",
      "7\n",
      "9\n",
      "11\n",
      "13\n",
      "15\n",
      "17\n",
      "19\n",
      "21\n",
      "23\n",
      "25\n",
      "27\n",
      "29\n",
      "31\n",
      "33\n",
      "35\n",
      "37\n",
      "39\n",
      "41\n",
      "43\n",
      "45\n",
      "47\n",
      "49\n"
     ]
    }
   ],
   "source": [
    "#imprimindo apenas os números ímpares\n",
    "for num in lista:\n",
    "    if num%2 != 0:\n",
    "        print(num)"
   ]
  },
  {
   "cell_type": "markdown",
   "metadata": {},
   "source": [
    "17 - Desenvolva um gerador de tabuada, capaz de gerar a tabuada de qualquer\n",
    "número inteiro entre 1 a 10. O usuário deve informar de qual numero ele deseja ver\n",
    "a tabuada. A saída deve ser conforme o exemplo abaixo:\n",
    "Tabuada de 5:\n",
    "5 X 1 = 5\n",
    "5 X 2 = 10\n",
    "...\n",
    "5 X 10 = 50\n"
   ]
  },
  {
   "cell_type": "code",
   "execution_count": 18,
   "metadata": {},
   "outputs": [
    {
     "name": "stdout",
     "output_type": "stream",
     "text": [
      "Qual tabuada deseja ver? 5\n",
      "ate qual valor? 10\n",
      " 5 X  0 =  0\n",
      " 5 X  1 =  5\n",
      " 5 X  2 =  10\n",
      " 5 X  3 =  15\n",
      " 5 X  4 =  20\n",
      " 5 X  5 =  25\n",
      " 5 X  6 =  30\n",
      " 5 X  7 =  35\n",
      " 5 X  8 =  40\n",
      " 5 X  9 =  45\n",
      " 5 X 10 =  50\n"
     ]
    }
   ],
   "source": [
    "a = int(input('Qual tabuada deseja ver? '))\n",
    "b = int(input('ate qual valor? '))\n",
    "\n",
    "for res in range(0, b+1):\n",
    "    print(f'{a:2} X {res:2} = ', a * res)"
   ]
  },
  {
   "cell_type": "markdown",
   "metadata": {},
   "source": [
    "18 - A série de Fibonacci é formada pela seqüência 1,1,2,3,5,8,13,21,34,55,... Faça um programa capaz degerar a série até o n−ésimo termo."
   ]
  },
  {
   "cell_type": "code",
   "execution_count": 19,
   "metadata": {},
   "outputs": [],
   "source": [
    "list = []\n",
    "\n",
    "def fib(n):\n",
    "    a = 0\n",
    "    b = 1;\n",
    "    while (b < n):\n",
    "        c = a\n",
    "        a = b\n",
    "        b = a + c\n",
    "        print (a)"
   ]
  },
  {
   "cell_type": "code",
   "execution_count": 20,
   "metadata": {},
   "outputs": [
    {
     "name": "stdout",
     "output_type": "stream",
     "text": [
      "1\n",
      "1\n",
      "2\n",
      "3\n",
      "5\n",
      "8\n",
      "13\n"
     ]
    }
   ],
   "source": [
    "fib(20)"
   ]
  },
  {
   "cell_type": "code",
   "execution_count": 21,
   "metadata": {},
   "outputs": [
    {
     "name": "stdout",
     "output_type": "stream",
     "text": [
      "1\n",
      "1\n",
      "2\n",
      "3\n",
      "5\n",
      "8\n",
      "13\n",
      "21\n",
      "34\n",
      "55\n",
      "89\n",
      "144\n",
      "233\n",
      "377\n",
      "610\n",
      "987\n",
      "1597\n",
      "2584\n",
      "4181\n",
      "6765\n",
      "10946\n",
      "17711\n"
     ]
    }
   ],
   "source": [
    "fib(20000)"
   ]
  },
  {
   "cell_type": "markdown",
   "metadata": {},
   "source": [
    "19 - Faça um programa que calcule o fatorial de um número inteiro fornecido pelo usuário. Ex.: 5!=5.4.3.2.1=120"
   ]
  },
  {
   "cell_type": "code",
   "execution_count": 22,
   "metadata": {},
   "outputs": [
    {
     "name": "stdout",
     "output_type": "stream",
     "text": [
      "Numero a ser Fatorado: 5\n",
      "5! = 120\n"
     ]
    }
   ],
   "source": [
    "i = 1  # contador\n",
    "n_fat = 1 \n",
    "n = int(input('Numero a ser Fatorado: '))\n",
    "# calcule n!\n",
    "while i <= n:\n",
    "    n_fat = n_fat * i \n",
    "    i = i + 1    \n",
    "else:  \n",
    "    print(\"%d! = %d\" %(n, n_fat))   "
   ]
  },
  {
   "cell_type": "markdown",
   "metadata": {},
   "source": [
    "20 - O Sr. Manoel Joaquim possui uma grande loja de artigos de R$ 1,99, com cerca de 10 caixas. Para agilizar o cálculo de quanto cada cliente deve pagar ele desenvolveu um tabela que contém o número de itens que o cliente comprou e ao lado o valor da conta. Desta forma a atendente do caixa precisa apenas contar quantos itens o cliente está levando e olhar na tabela de preços. Você foi contratado para desenvolver o programa que monta esta tabela de preços, que conterá os preços de 1 até 50 produtos."
   ]
  },
  {
   "cell_type": "code",
   "execution_count": 23,
   "metadata": {},
   "outputs": [
    {
     "name": "stdout",
     "output_type": "stream",
     "text": [
      "Loja Quase Dois - Tabela de preços\n",
      "              1 - R$ 1.99\n",
      "              2 - R$ 3.98\n",
      "              3 - R$ 5.97\n",
      "              4 - R$ 7.96\n",
      "              5 - R$ 9.95\n",
      "              6 - R$ 11.94\n",
      "              7 - R$ 13.93\n",
      "              8 - R$ 15.92\n",
      "              9 - R$ 17.91\n",
      "             10 - R$ 19.90\n",
      "             11 - R$ 21.89\n",
      "             12 - R$ 23.88\n",
      "             13 - R$ 25.87\n",
      "             14 - R$ 27.86\n",
      "             15 - R$ 29.85\n",
      "             16 - R$ 31.84\n",
      "             17 - R$ 33.83\n",
      "             18 - R$ 35.82\n",
      "             19 - R$ 37.81\n",
      "             20 - R$ 39.80\n",
      "             21 - R$ 41.79\n",
      "             22 - R$ 43.78\n",
      "             23 - R$ 45.77\n",
      "             24 - R$ 47.76\n",
      "             25 - R$ 49.75\n",
      "             26 - R$ 51.74\n",
      "             27 - R$ 53.73\n",
      "             28 - R$ 55.72\n",
      "             29 - R$ 57.71\n",
      "             30 - R$ 59.70\n",
      "             31 - R$ 61.69\n",
      "             32 - R$ 63.68\n",
      "             33 - R$ 65.67\n",
      "             34 - R$ 67.66\n",
      "             35 - R$ 69.65\n",
      "             36 - R$ 71.64\n",
      "             37 - R$ 73.63\n",
      "             38 - R$ 75.62\n",
      "             39 - R$ 77.61\n",
      "             40 - R$ 79.60\n",
      "             41 - R$ 81.59\n",
      "             42 - R$ 83.58\n",
      "             43 - R$ 85.57\n",
      "             44 - R$ 87.56\n",
      "             45 - R$ 89.55\n",
      "             46 - R$ 91.54\n",
      "             47 - R$ 93.53\n",
      "             48 - R$ 95.52\n",
      "             49 - R$ 97.51\n",
      "             50 - R$ 99.50\n"
     ]
    }
   ],
   "source": [
    "print('Loja Quase Dois - Tabela de preços')\n",
    "for i in range(1,51):\n",
    "     print ('%15d - R$ %.2f' % (i, i * 1.99))"
   ]
  },
  {
   "cell_type": "markdown",
   "metadata": {},
   "source": [
    "21 - O Sr. Manoel Joaquim acaba de adquirir uma panificadora e pretende implantar\n",
    "a metodologia da tabelinha, que já é um sucesso na sua loja de 1,99. Você foi\n",
    "contratado para desenvolver o programa que monta a tabela de preços de pães, de\n",
    "1 até 50 pães, a partir do preço do pão informado pelo usuário, conforme o exemplo\n",
    "abaixo:\n",
    "Preço do pão: R$ 0.18\n",
    "Panificadora Pão de Ontem - Tabela de preços\n",
    "1 - R$ 0.18\n",
    "2 - R$ 0.36\n",
    "...\n",
    "50 - R$ 9.00"
   ]
  },
  {
   "cell_type": "code",
   "execution_count": 24,
   "metadata": {},
   "outputs": [
    {
     "name": "stdout",
     "output_type": "stream",
     "text": [
      "Qua o preço do pão? 2\n",
      " 1 - R$2.00\n",
      " 2 - R$4.00\n",
      " 3 - R$6.00\n",
      " 4 - R$8.00\n",
      " 5 - R$10.00\n",
      " 6 - R$12.00\n",
      " 7 - R$14.00\n",
      " 8 - R$16.00\n",
      " 9 - R$18.00\n",
      "10 - R$20.00\n",
      "11 - R$22.00\n",
      "12 - R$24.00\n",
      "13 - R$26.00\n",
      "14 - R$28.00\n",
      "15 - R$30.00\n",
      "16 - R$32.00\n",
      "17 - R$34.00\n",
      "18 - R$36.00\n",
      "19 - R$38.00\n",
      "20 - R$40.00\n",
      "21 - R$42.00\n",
      "22 - R$44.00\n",
      "23 - R$46.00\n",
      "24 - R$48.00\n",
      "25 - R$50.00\n",
      "26 - R$52.00\n",
      "27 - R$54.00\n",
      "28 - R$56.00\n",
      "29 - R$58.00\n",
      "30 - R$60.00\n",
      "31 - R$62.00\n",
      "32 - R$64.00\n",
      "33 - R$66.00\n",
      "34 - R$68.00\n",
      "35 - R$70.00\n",
      "36 - R$72.00\n",
      "37 - R$74.00\n",
      "38 - R$76.00\n",
      "39 - R$78.00\n",
      "40 - R$80.00\n",
      "41 - R$82.00\n",
      "42 - R$84.00\n",
      "43 - R$86.00\n",
      "44 - R$88.00\n",
      "45 - R$90.00\n",
      "46 - R$92.00\n",
      "47 - R$94.00\n",
      "48 - R$96.00\n",
      "49 - R$98.00\n",
      "50 - R$100.00\n"
     ]
    }
   ],
   "source": [
    "valor = float(input('Qua o preço do pão? '))\n",
    "for res in range(1, 51):\n",
    "    print(f'{res:2} - R${valor * res:4.2f}')"
   ]
  },
  {
   "cell_type": "markdown",
   "metadata": {},
   "source": [
    "22 - O Sr. Manoel Joaquim expandiu seus negócios para além dos negócios de 1,99 e agora possui uma loja de conveniências. Faça um programa que implemente uma caixa registradora rudimentar. O programa deverá receber um número desconhecido de valores referentes aos preços das mercadorias. Um valor zero deve ser informado pelo operador para indicar o final dacompra. O programa deve então mostrar o total da compra e perguntar o valor em dinheiro que o cliente forneceu, para então calcular e mostrar o valor do troco. Após esta operação, o programa deverá voltar ao ponto inicial, para registrar a próxima compra.A saída deve ser conforme o exemplo abaixo:Lojas Tabajara Produto 1: R$ 2.20Produto 2: R 5.80Produto 3: R 0Total: R 9.00Dinheiro: R 20.00 Troco: R 11.00"
   ]
  },
  {
   "cell_type": "code",
   "execution_count": 27,
   "metadata": {},
   "outputs": [],
   "source": [
    "def controladorCaixa():\n",
    "    listaValores = []\n",
    "    valorProduto = \"\"\n",
    "    contProduto = 0\n",
    "\n",
    "    while valorProduto != 0:\n",
    "        contProduto += 1\n",
    "        valorProduto = float(input(f'Produto {contProduto}: R$ '))\n",
    "        listaValores.append(valorProduto)\n",
    "    else:\n",
    "        contProduto = 0\n",
    "        contador = 0\n",
    "        total = sum(listaValores)\n",
    "        print('Lojas Tabajara')\n",
    "        for i in listaValores:\n",
    "            contProduto +=1\n",
    "            print(f'Produto {contProduto}: R$ {listaValores[contador]:{10}.{6}}')\n",
    "            contador +=1\n",
    "        print(f'Total: R$ {total:{10}.{6}}')\n",
    "        valorPagamento = float(input(f'Qual o valor que o cliente forneceu: R$ '))\n",
    "        print(f'Dinheiro: R$ {valorPagamento}')\n",
    "        troco = valorPagamento - total\n",
    "        print(f'Troco: R$ {troco}')\n",
    "        print('...')\n",
    "        controladorCaixa()"
   ]
  },
  {
   "cell_type": "code",
   "execution_count": null,
   "metadata": {},
   "outputs": [
    {
     "name": "stdout",
     "output_type": "stream",
     "text": [
      "Produto 1: R$ 50\n",
      "Produto 2: R$ 20\n",
      "Produto 3: R$ 30\n",
      "Produto 4: R$ 0\n",
      "Lojas Tabajara\n",
      "Produto 1: R$       50.0\n",
      "Produto 2: R$       20.0\n",
      "Produto 3: R$       30.0\n",
      "Produto 4: R$        0.0\n",
      "Total: R$      100.0\n",
      "Qual o valor que o cliente forneceu: R$ 250\n",
      "Dinheiro: R$ 250.0\n",
      "Troco: R$ 150.0\n",
      "...\n",
      "Produto 1: R$ 500\n",
      "Produto 2: R$ 300\n",
      "Produto 3: R$ 200\n",
      "Produto 4: R$ 0\n",
      "Lojas Tabajara\n",
      "Produto 1: R$      500.0\n",
      "Produto 2: R$      300.0\n",
      "Produto 3: R$      200.0\n",
      "Produto 4: R$        0.0\n",
      "Total: R$     1000.0\n",
      "Qual o valor que o cliente forneceu: R$ 2500\n",
      "Dinheiro: R$ 2500.0\n",
      "Troco: R$ 1500.0\n",
      "...\n"
     ]
    }
   ],
   "source": [
    "controladorCaixa()"
   ]
  },
  {
   "cell_type": "markdown",
   "metadata": {},
   "source": [
    "23 - Foi feita uma estatística em cinco cidades brasileiras para coletar dados sobre acidentes de trânsito. Foram obtidos os seguintes dados: \n",
    "-Código da cidade; \n",
    "-Número de veículos de passeio (em 1999); \n",
    "-Número de acidentes de trânsito com vítimas (em 1999). \n",
    "Deseja-se saber: \n",
    "-Qual o maior e menor índice de acidentes de transito e a que cidade pertence; \n",
    "-Qual a média de veículos nas cinco cidades juntas; \n",
    "-Qual a média de acidentes de trânsito nas cidades com menos de 2.000 veículos de passeio. "
   ]
  },
  {
   "cell_type": "code",
   "execution_count": 1,
   "metadata": {},
   "outputs": [
    {
     "name": "stdout",
     "output_type": "stream",
     "text": [
      "Codigo da cidade: 5\n",
      "Numero de veiculos de passeio: 50\n",
      "Numero de acidentes: 12\n",
      "Codigo da cidade: 6\n",
      "Numero de veiculos de passeio: 48\n",
      "Numero de acidentes: 7\n",
      "Codigo da cidade: 7\n",
      "Numero de veiculos de passeio: 26\n",
      "Numero de acidentes: 0\n",
      "Codigo da cidade: 8\n",
      "Numero de veiculos de passeio: 68\n",
      "Numero de acidentes: 5\n",
      "Codigo da cidade: 9\n",
      "Numero de veiculos de passeio: 25\n",
      "Numero de acidentes: 1\n",
      "\n",
      "Maior indice de acidentes:  12\n",
      "Menor indice de acidentes:  0\n",
      "Media de veículos:  43.4\n",
      "Média de acidentes de transito nas cidades com menos de 2 Mil veículos:  5.0\n"
     ]
    }
   ],
   "source": [
    "tamanho = 5\n",
    "cod_cidade =  [0] * tamanho\n",
    "n_acidentes = [0] * tamanho\n",
    "n_veiculos =  [0] * tamanho\n",
    "\n",
    "for i in range(tamanho):\n",
    "    cod_cidade[1] = int(input('Codigo da cidade: '))\n",
    "    n_veiculos[i] = int(input('Numero de veiculos de passeio: '))\n",
    "    n_acidentes[i]= int(input('Numero de acidentes: ')) \n",
    "    \n",
    "def SomaAcidentes(listaAcidentes):\n",
    "    totalAcidentes=0\n",
    "    for numeroLista1 in listaAcidentes:\n",
    "        totalAcidentes += numeroLista1\n",
    "    return totalAcidentes\n",
    "    \n",
    "def SomaVeiculos(listaVeiculos):\n",
    "    totalVeiculos=0\n",
    "    for numeroLista2 in listaVeiculos:\n",
    "        totalVeiculos += numeroLista2\n",
    "    return totalVeiculos\n",
    "\n",
    "def MediaVeiculos(listaVeiculos):\n",
    "    return (SomaVeiculos(n_veiculos) / len(listaVeiculos))\n",
    "\n",
    "def MediaAcidentes(listaAcidentes):\n",
    "    return (SomaAcidentes(n_acidentes) / len(listaAcidentes))\n",
    "\n",
    "print ('\\nMaior indice de acidentes: ',max(n_acidentes))\n",
    "print ('Menor indice de acidentes: ',min(n_acidentes))\n",
    "print ('Media de veículos: ', MediaVeiculos(n_veiculos))\n",
    "print ('Média de acidentes de transito nas cidades com menos de 2 Mil veículos: ', MediaAcidentes(n_acidentes))\n",
    "\n",
    "\n"
   ]
  },
  {
   "cell_type": "markdown",
   "metadata": {},
   "source": [
    "24 - Faça um programa que receba o valor de uma dívida e mostre uma tabela com os seguintes dados: valor da dívida, valor dos juros, quantidade de parcelas e valor da parcela. Os juros e a quantidade de parcelas seguem a tabela abaixo: Quantidade de Parcelas  % de Juros sobre o valor inicial da dívida "
   ]
  },
  {
   "cell_type": "code",
   "execution_count": 2,
   "metadata": {},
   "outputs": [
    {
     "name": "stdout",
     "output_type": "stream",
     "text": [
      "Insira o valor da dívida: 150\n",
      "Valor da Dívida | Valor dos Juros | Qtd de Parcelas | Valor da Parcela\n",
      "R$ 150.00\t| R$ 0.00\t  | 1 \t\t    | R$ 150.00\n",
      "R$ 165.00\t| R$ 15.00\t  | 3 \t\t    | R$ 55.00\n",
      "R$ 172.50\t| R$ 22.50\t  | 6 \t\t    | R$ 28.75\n",
      "R$ 180.00\t| R$ 30.00\t  | 9 \t\t    | R$ 20.00\n",
      "R$ 187.50\t| R$ 37.50\t  | 12 \t\t    | R$ 15.62\n"
     ]
    }
   ],
   "source": [
    "\n",
    "divida = float(input('Insira o valor da dívida: '))\n",
    "\n",
    "print('Valor da Dívida | Valor dos Juros | Qtd de Parcelas | Valor da Parcela')\n",
    "\n",
    "juros = 0\n",
    "\n",
    "for qtdParcelas in [1, 3, 6, 9, 12]:\n",
    "    valorJuros = (divida * (juros / 100.0))\n",
    "    valorDivida = divida + valorJuros\n",
    "    valorParcela = valorDivida / qtdParcelas\n",
    "    print ('R$ %.2f\\t| R$ %.2f\\t  |% i \\t\\t    | R$ %.2f' %(valorDivida, valorJuros, qtdParcelas, valorParcela))\n",
    "    \n",
    "    if (qtdParcelas == 1):\n",
    "        juros = 10.0\n",
    "    else:\n",
    "        juros += 5.0"
   ]
  },
  {
   "cell_type": "markdown",
   "metadata": {},
   "source": [
    "25 - Faça um programa que mostre os n termos da Série a seguir:S = 1/1 + 2/3 + 3/5 + 4/7 + 5/9 + ... + n/m. Imprima no final a soma da série."
   ]
  },
  {
   "cell_type": "code",
   "execution_count": 3,
   "metadata": {},
   "outputs": [
    {
     "name": "stdout",
     "output_type": "stream",
     "text": [
      "Insira a quantidade de termos desejada: 3\n",
      "Soma da série: 2.27\n"
     ]
    }
   ],
   "source": [
    "termo = int(input('Insira a quantidade de termos desejada: '))\n",
    "\n",
    "s = float(0)\n",
    "m = 1\n",
    "for n in range(1, termo + 1):\n",
    "    s += n / m\n",
    "    m += 2\n",
    "    \n",
    "print ('Soma da série: %.2f' % s)"
   ]
  },
  {
   "cell_type": "markdown",
   "metadata": {},
   "source": [
    "PP - EXÉRCICIO 3 - KENNEDY MOTA - 81613747 - CCP3AN-MCA2"
   ]
  }
 ],
 "metadata": {
  "kernelspec": {
   "display_name": "Python 3",
   "language": "python",
   "name": "python3"
  },
  "language_info": {
   "codemirror_mode": {
    "name": "ipython",
    "version": 3
   },
   "file_extension": ".py",
   "mimetype": "text/x-python",
   "name": "python",
   "nbconvert_exporter": "python",
   "pygments_lexer": "ipython3",
   "version": "3.6.4"
  }
 },
 "nbformat": 4,
 "nbformat_minor": 2
}
