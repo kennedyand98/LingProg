{
 "cells": [
  {
   "cell_type": "markdown",
   "metadata": {},
   "source": [
    "1 Defina a função soma_nat que recebe como argumento um número natural n e devolve a soma de todos os números naturais até n."
   ]
  },
  {
   "cell_type": "code",
   "execution_count": 3,
   "metadata": {},
   "outputs": [
    {
     "name": "stdout",
     "output_type": "stream",
     "text": [
      "Insira um número natural: 5\n",
      "A soma dos números naturais anteriores é: 15\n"
     ]
    }
   ],
   "source": [
    "get_number = lambda: int(input('Insira um número natural: '))\n",
    "\n",
    "soma_nat = lambda n:0 if n == 0 else print('Digite um número natural apenas!') if n<0 else n+soma_nat(n-1)\n",
    "(lambda m:print(f'A soma dos números naturais anteriores é: {m}') if m != None \n",
    " else print('Número digitado não é natural'))(soma_nat(get_number()))"
   ]
  },
  {
   "cell_type": "code",
   "execution_count": 4,
   "metadata": {},
   "outputs": [],
   "source": [
    "assert(soma_nat(5)==15)"
   ]
  },
  {
   "cell_type": "markdown",
   "metadata": {},
   "source": [
    "4 Defina a função prod_lista que recebe como argumento uma lista de inteiros e devolve o produto dos seus elementos."
   ]
  },
  {
   "cell_type": "code",
   "execution_count": 6,
   "metadata": {},
   "outputs": [
    {
     "name": "stdout",
     "output_type": "stream",
     "text": [
      "OBS: Você será solicitado a inserir elementos na lista até inserir um elemento inválido\n",
      "Insira um número na lista: 5\n",
      "Insira um número na lista: 4\n",
      "Insira um número na lista: 3\n",
      "Insira um número na lista: 0\n",
      "Insira um número na lista: 1\n",
      "Insira um número na lista: 3\n",
      "Insira um número na lista: 65\n",
      "Insira um número na lista: 4\n",
      "Insira um número na lista: \n",
      "Lista = [5.0, 4.0, 3.0, 0.0, 1.0, 3.0, 65.0, 4.0] \n",
      "Produto dos elementos = 0.0\n"
     ]
    }
   ],
   "source": [
    "monta = lambda: float(input('Insira um número na lista: '))\n",
    "produto_lista = lambda lista:lista[len(lista)-1] * produto_lista(lista[:-1]) if len(lista) > 0 else 1  \n",
    "main = lambda funcao: funcao()\n",
    "\n",
    "def monta_lista():\n",
    "    lista = []\n",
    "    print('OBS: Você será solicitado a inserir elementos na lista até inserir um elemento inválido')\n",
    "    while True:\n",
    "        try:\n",
    "            lista.append(monta())\n",
    "        except (ValueError, Exception):\n",
    "            if len(lista) > 0:\n",
    "                produtos = produto_lista(lista)\n",
    "            else:\n",
    "                produtos = 0\n",
    "            print(f'Lista = {lista} \\nProduto dos elementos = {produtos}')\n",
    "            break\n",
    "    \n",
    "main(monta_lista)"
   ]
  },
  {
   "cell_type": "code",
   "execution_count": 7,
   "metadata": {},
   "outputs": [],
   "source": [
    "assert(produto_lista([1,2,3,4,5,6])==720)"
   ]
  },
  {
   "cell_type": "markdown",
   "metadata": {},
   "source": [
    "5 Defina a função contem_parQ que recebe como argumento uma lista de números inteiros w e devolve True se w contém um número par e False em caso contrário."
   ]
  },
  {
   "cell_type": "code",
   "execution_count": 9,
   "metadata": {},
   "outputs": [
    {
     "name": "stdout",
     "output_type": "stream",
     "text": [
      "OBS: Você será solicitado a inserir elementos na lista até inserir um elemento inválido\n",
      "Insira um número inteiro na lista: 5\n",
      "Insira um número inteiro na lista: 21\n",
      "Insira um número inteiro na lista: 3\n",
      "Insira um número inteiro na lista: \n",
      "False\n"
     ]
    }
   ],
   "source": [
    "monta = lambda: int(input('Insira um número inteiro na lista: '))\n",
    "par = lambda lista: True if len(lista)> 0 and (lista[len(lista)-1] % 2 == 0 or par(lista[:-1])) else False\n",
    "main = lambda funcao: funcao()\n",
    "\n",
    "def monta_lista():\n",
    "    lista = []\n",
    "    print('OBS: Você será solicitado a inserir elementos na lista até inserir um elemento inválido')\n",
    "    while True:\n",
    "        try:\n",
    "            lista.append(monta())\n",
    "        except (ValueError, Exception):\n",
    "            if len(lista) > 0:\n",
    "                resultado = par(lista)\n",
    "                print(resultado)\n",
    "                break\n",
    "            else:\n",
    "                print('A lista está vazia!')\n",
    "    \n",
    "main(monta_lista)\n",
    "\n",
    "\n",
    "assert(par([2,3,1,2,3,4])==True)\n"
   ]
  },
  {
   "cell_type": "markdown",
   "metadata": {},
   "source": [
    "7 Defina a função pertenceQ que recebe como argumentos uma lista de números inteiros w e um número inteiro n e devolve True se n ocorre em w e False em caso contrário."
   ]
  },
  {
   "cell_type": "code",
   "execution_count": 10,
   "metadata": {},
   "outputs": [
    {
     "name": "stdout",
     "output_type": "stream",
     "text": [
      "OBS: Você será solicitado a inserir elementos na lista até inserir um elemento inválido\n",
      "Insira um número inteiro na lista: 5\n",
      "Insira um número inteiro na lista: 4\n",
      "Insira um número inteiro na lista: 6\n",
      "Insira um número inteiro na lista: 3\n",
      "Insira um número inteiro na lista: \n",
      "Lista = [5, 4, 6, 3]\n",
      "Digite um número inteiro: 4\n",
      "True\n"
     ]
    }
   ],
   "source": [
    "monta = lambda: int(input('Insira um número inteiro na lista: '))\n",
    "inteiro = lambda: int(input('Digite um número inteiro: '))\n",
    "pertence = lambda lista, numero: True if len(lista)> 0 and (numero in lista or pertence(lista[:-1],numero)) else False\n",
    "main = lambda funcao: funcao()\n",
    "\n",
    "def monta_lista():\n",
    "    lista = []\n",
    "    print('OBS: Você será solicitado a inserir elementos na lista até inserir um elemento inválido')\n",
    "    while True:\n",
    "        try:\n",
    "            lista.append(monta())\n",
    "        except (ValueError, Exception):\n",
    "            print(f'Lista = {lista}')\n",
    "            numero =  inteiro()\n",
    "            resultado = pertence(lista, numero)\n",
    "            print(resultado)\n",
    "            break\n",
    "\n",
    "main(monta_lista)\n",
    "\n",
    "\n",
    "assert(pertence([1,2,3],1)==True)"
   ]
  },
  {
   "cell_type": "markdown",
   "metadata": {},
   "source": [
    "10 Defina a função inverteLista que recebe como argumento uma lista w e devolve a mesma lista mas invertida."
   ]
  },
  {
   "cell_type": "code",
   "execution_count": 11,
   "metadata": {},
   "outputs": [
    {
     "name": "stdout",
     "output_type": "stream",
     "text": [
      "OBS: Você será solicitado a inserir elementos na lista até inserir um elemento inválido\n",
      "Insira um número inteiro na lista: 4\n",
      "Insira um número inteiro na lista: 5\n",
      "Insira um número inteiro na lista: 6\n",
      "Insira um número inteiro na lista: 4\n",
      "Insira um número inteiro na lista: \n",
      "Lista = [4, 5, 6, 4]\n",
      "Lista Invertida = [4, 6, 5, 4]\n"
     ]
    }
   ],
   "source": [
    "monta = lambda: int(input('Insira um número inteiro na lista: '))\n",
    "## recursivo\n",
    "inverte = lambda lista: (inverte(lista[1:]) + lista[:1] if lista else [])\n",
    "main = lambda funcao: funcao()\n",
    "\n",
    "def monta_lista():\n",
    "    lista = []\n",
    "    n_lista = []\n",
    "    print('OBS: Você será solicitado a inserir elementos na lista até inserir um elemento inválido')\n",
    "    while True:\n",
    "        try:\n",
    "            lista.append(monta())\n",
    "        except (ValueError, Exception):\n",
    "            print(f'Lista = {lista}')\n",
    "            n_lista = inverte(lista)\n",
    "            print(f'Lista Invertida = {n_lista}')\n",
    "            break\n",
    "main(monta_lista)\n",
    "\n",
    "\n",
    "assert(inverte([1,2,3,4,5])==[5,4,3,2,1])"
   ]
  },
  {
   "cell_type": "code",
   "execution_count": null,
   "metadata": {},
   "outputs": [],
   "source": []
  }
 ],
 "metadata": {
  "kernelspec": {
   "display_name": "Python 3",
   "language": "python",
   "name": "python3"
  },
  "language_info": {
   "codemirror_mode": {
    "name": "ipython",
    "version": 3
   },
   "file_extension": ".py",
   "mimetype": "text/x-python",
   "name": "python",
   "nbconvert_exporter": "python",
   "pygments_lexer": "ipython3",
   "version": "3.6.4"
  }
 },
 "nbformat": 4,
 "nbformat_minor": 2
}
