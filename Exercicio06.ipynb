{
 "cells": [
  {
   "cell_type": "markdown",
   "metadata": {},
   "source": [
    "1 Defina a função soma_nat que recebe como argumento um número natural  n\n",
    "  e devolve a soma de todos os números naturais até  n.\n",
    "\n",
    "Ex: soma_nat(5) = 15\n"
   ]
  },
  {
   "cell_type": "code",
   "execution_count": 36,
   "metadata": {},
   "outputs": [],
   "source": [
    "def soma_nat(n):\n",
    "    val = 0\n",
    "    if n == 0:\n",
    "        return 0\n",
    "    else:\n",
    "        for i in range(n+1):\n",
    "            val = val + i\n",
    "        return val\n",
    "    \n",
    "def soma_nat_rec(n):\n",
    "\n",
    "    return 0 if n == 0 else n+soma_nat_rec(n-1)"
   ]
  },
  {
   "cell_type": "code",
   "execution_count": 44,
   "metadata": {},
   "outputs": [
    {
     "name": "stdout",
     "output_type": "stream",
     "text": [
      "Começando o teste\n",
      "Terminou\n"
     ]
    }
   ],
   "source": [
    "print('Começando o teste')\n",
    "assert(soma_nat_rec(5))\n",
    "assert(soma_nat_rec(8))\n",
    "assert(soma_nat_rec(1050))\n",
    "print('Terminou')"
   ]
  },
  {
   "cell_type": "markdown",
   "metadata": {},
   "source": [
    "7 Defina a função pertenceQ que recebe como argumentos uma lista de números inteiros w e um número inteiro n e devolve True se n ocorre em w e False em caso contrário.¶\n",
    "Ex: pertenceQ([1,2,3],1) = True Ex: pertenceQ([1,2,3],2) = True Ex: pertenceQ([1,2,3],3) = True Ex: pertenceQ([1,2,3],4) = False\n",
    "\n"
   ]
  },
  {
   "cell_type": "code",
   "execution_count": 111,
   "metadata": {},
   "outputs": [
    {
     "data": {
      "text/plain": [
       "True"
      ]
     },
     "execution_count": 111,
     "metadata": {},
     "output_type": "execute_result"
    }
   ],
   "source": [
    "def pertence_q(lista, numero):\n",
    "    return True if len(lista)> 0 and (numero in lista or pertence_q(lista[:-1],numero)) else False\n",
    "\n",
    "pertence_q([1,2,3], 1)"
   ]
  },
  {
   "cell_type": "code",
   "execution_count": 117,
   "metadata": {},
   "outputs": [],
   "source": [
    "assert(pertence_q([1,2,3], 1) == True)"
   ]
  },
  {
   "cell_type": "markdown",
   "metadata": {},
   "source": [
    "4 Defina a função prod_lista que recebe como argumento uma lista de inteiros e devolve o produto dos seus elementos.\n",
    "\n",
    "Ex: prod_lista([1,2,3,4,5,6]) = 720\n"
   ]
  },
  {
   "cell_type": "code",
   "execution_count": 99,
   "metadata": {},
   "outputs": [],
   "source": [
    "def prod_lista(lista):\n",
    "    result = 1\n",
    "    for numero in lista:\n",
    "        result *= numero\n",
    "    return result\n",
    "\n",
    "def prod_lista_rec(lista):\n",
    "        return lista[len(lista)-1] * prod_lista_rec(lista[:-1]) if len(lista) > 0 else 1"
   ]
  },
  {
   "cell_type": "code",
   "execution_count": 102,
   "metadata": {},
   "outputs": [
    {
     "data": {
      "text/plain": [
       "720"
      ]
     },
     "execution_count": 102,
     "metadata": {},
     "output_type": "execute_result"
    }
   ],
   "source": [
    "prod_lista_rec([1,2,3,4,5,6])"
   ]
  },
  {
   "cell_type": "code",
   "execution_count": 104,
   "metadata": {},
   "outputs": [],
   "source": [
    "assert(prod_lista_rec([1,2,3,4,5,6]) == 720)"
   ]
  },
  {
   "cell_type": "markdown",
   "metadata": {},
   "source": [
    "\n",
    "5 Defina a função contem_parQ que recebe como argumento uma lista de números inteiros w e devolve True se w contém um número par e False em caso contrário.¶\n",
    "Ex: contem_parQ([2,3,1,2,3,4]) = True Ex: contem_parQ([1,3,5,7]) = False"
   ]
  },
  {
   "cell_type": "code",
   "execution_count": 106,
   "metadata": {},
   "outputs": [],
   "source": [
    "def verifica_par(lista):\n",
    "    return True if len(lista)> 0 and (lista[len(lista)-1] % 2 == 0 or verifica_par(lista[:-1])) else False\n"
   ]
  },
  {
   "cell_type": "code",
   "execution_count": 108,
   "metadata": {},
   "outputs": [
    {
     "data": {
      "text/plain": [
       "False"
      ]
     },
     "execution_count": 108,
     "metadata": {},
     "output_type": "execute_result"
    }
   ],
   "source": [
    "verifica_par([1,3,5])"
   ]
  },
  {
   "cell_type": "code",
   "execution_count": 109,
   "metadata": {},
   "outputs": [
    {
     "data": {
      "text/plain": [
       "True"
      ]
     },
     "execution_count": 109,
     "metadata": {},
     "output_type": "execute_result"
    }
   ],
   "source": [
    "verifica_par([1,3,5,6])"
   ]
  },
  {
   "cell_type": "code",
   "execution_count": 110,
   "metadata": {},
   "outputs": [],
   "source": [
    "assert(verifica_par([2,3,1,2,]) == True)"
   ]
  },
  {
   "cell_type": "markdown",
   "metadata": {},
   "source": [
    "\n",
    "10 Defina a função inverteLista que recebe como argumento uma lista w e devolve a mesma lista mas invertida.\n",
    "Ex: inverteLista([1,2,3,4,5]) = [5, 4, 3, 2, 1] Ex: inverteLista([])"
   ]
  },
  {
   "cell_type": "code",
   "execution_count": 118,
   "metadata": {},
   "outputs": [
    {
     "data": {
      "text/plain": [
       "[5, 4, 3, 2, 1]"
      ]
     },
     "execution_count": 118,
     "metadata": {},
     "output_type": "execute_result"
    }
   ],
   "source": [
    "inverte = lambda lista: (inverte(lista[1:]) + lista[:1] if lista else [])\n",
    "\n",
    "inverte([1,2,3,4,5])"
   ]
  },
  {
   "cell_type": "code",
   "execution_count": 119,
   "metadata": {},
   "outputs": [],
   "source": [
    "assert(inverte([1,2,3,4,5]) == [5,4,3,2,1])"
   ]
  },
  {
   "cell_type": "code",
   "execution_count": null,
   "metadata": {},
   "outputs": [],
   "source": []
  }
 ],
 "metadata": {
  "kernelspec": {
   "display_name": "Python 3",
   "language": "python",
   "name": "python3"
  },
  "language_info": {
   "codemirror_mode": {
    "name": "ipython",
    "version": 3
   },
   "file_extension": ".py",
   "mimetype": "text/x-python",
   "name": "python",
   "nbconvert_exporter": "python",
   "pygments_lexer": "ipython3",
   "version": "3.6.4"
  }
 },
 "nbformat": 4,
 "nbformat_minor": 2
}
